{
  "nbformat": 4,
  "nbformat_minor": 0,
  "metadata": {
    "colab": {
      "name": "Untitled10.ipynb",
      "provenance": [],
      "collapsed_sections": []
    },
    "kernelspec": {
      "name": "python3",
      "display_name": "Python 3"
    }
  },
  "cells": [
    {
      "cell_type": "code",
      "metadata": {
        "id": "yXJxeISauZ3W",
        "colab_type": "code",
        "colab": {}
      },
      "source": [
        "# 17IT027 & 17IT032🐍\n",
        "\n",
        "# PREDEFINING PARAMETERS\n",
        "\n",
        "from bs4 import BeautifulSoup\n",
        "import urllib\n",
        "import requests\n",
        "headers={\n",
        "    'User-Agent': 'Mozilla/5.0 (Windows NT 10.0; Win64; x64) AppleWebKit/537.36 (KHTML, like Gecko) Chrome/84.0.4147.89 Safari/537.36'\n",
        "}\n",
        "\n",
        "post_params = {\n",
        "    \n",
        "    '__LASTFOCUS':'',\n",
        "    '__EVENTTARGET': 'btnSearch',\n",
        "    '__EVENTARGUMENT': '',\n",
        "    '__VIEWSTATE': '',\n",
        "    '__VIEWSTATEGENERATOR': 'F859A3E9',\n",
        "    'ddlInst': 1,\n",
        "    'ddlDegree': 38,\n",
        "    'ddlSem': 1,\n",
        "    'ddlScheduleExam': 3236,\n",
        "    \n",
        "    }\n",
        "url=\"http://117.239.83.200:2020/\" # CHARUSAT RESULTS\n",
        "\n"
      ],
      "execution_count": 114,
      "outputs": []
    },
    {
      "cell_type": "code",
      "metadata": {
        "id": "x5UogNA6z-zR",
        "colab_type": "code",
        "colab": {}
      },
      "source": [
        "# FETCHING RAW HTML CONTENT\n",
        "\n",
        "html_content = requests.get(url,headers=headers).text\n"
      ],
      "execution_count": null,
      "outputs": []
    },
    {
      "cell_type": "code",
      "metadata": {
        "id": "soKnJvAyz6dE",
        "colab_type": "code",
        "colab": {
          "base_uri": "https://localhost:8080/",
          "height": 241
        },
        "outputId": "dd8e40f4-9035-40b3-f8c1-af73f80bfe37"
      },
      "source": [
        "# PARSING HTML OCNTENT\n",
        "\n",
        "import pandas as pd\n",
        "\n",
        "exams=[{'ddlInst': 1, 'ddlDegree': 38, 'ddlSem': 1, 'ddlScheduleExam': 3236, '__VIEWSTATE': '/wEPDwULLTE1NjI2NDEzNjgPFgIeDFByZXZpb3VzUGFnZQUzaHR0cDovLzExNy4yMzkuODMuMjAwOjIwMjAvZnJtVW5pdmVyc2l0eVJlc3VsdC5hc3B4FgICAw9kFgICAQ9kFgRmD2QWDAIFDxAPFgYeDURhdGFUZXh0RmllbGQFBUFsaWFzHg5EYXRhVmFsdWVGaWVsZAULSW5zdGl0dXRlSUQeC18hRGF0YUJvdW5kZ2QQFQoJU2VsZWN0Li4uBUNTUElUBkNNUElDQQRSUENQBElJSU0GUERQSUFTBEFSSVAETVRJTgRDSVBTB0RFUFNUQVIVCgEwATEBMgEzATQBNQE2AjE2AjE5AjIxFCsDCmdnZ2dnZ2dnZ2cWAQIBZAIHDxAPFgYfAQUKRGVncmVlQ29kZR8CBQhEZWdyZWVJRB8DZ2QQFRoJU2VsZWN0Li4uCUJURUNIKENFKQlCVEVDSChDTCkJQlRFQ0goQ1MpCUJURUNIKEVDKQlCVEVDSChFRSkJQlRFQ0goSVQpCUJURUNIKE1FKQREUkNFBERSQ0wERFJFQwREUkVFBERSTUUKTVRFQ0goQU1UKQlNVEVDSChDRSkJTVRFQ0goQ0wpCk1URUNIKENTRSkJTVRFQ0goRUMpCU1URUNIKEVFKQpNVEVDSChFVkQpCk1URUNIKElDVCkJTVRFQ0goSVQpCU1URUNIKE1FKQlNVEVDSChQRSkJTVRFQ0goVEUpA01UTRUaATACMzkCNDEDMTU1AjQwAjM3AjM4AjM2AjgyAjkwAjcwAjcyAjcxAzEwNgI2NQMxMDUDMTQwAjYxAjg3AzExNgMxNDICOTUCNjADMTQzAzE0MQMxMTAUKwMaZ2dnZ2dnZ2dnZ2dnZ2dnZ2dnZ2dnZ2dnZ2cWAQIGZAIJDxAPFgYfAQUDU2VtHwIFA1NlbR8DZ2QQFQkJU2VsZWN0Li4uATEBMgEzATQBNQE2ATcBOBUJATABMQEyATMBNAE1ATYBNwE4FCsDCWdnZ2dnZ2dnZxYBAgFkAgsPEA8WBh8BBQ1FeGFtTW9udGhZZWFyHwIFDlNjaGVkdWxlRXhhbUlEHwNnZBAVDglTZWxlY3QuLi4NREVDRU1CRVIgMjAxOQpBUFJJTCAyMDE5DU5PVkVNQkVSIDIwMTgKQVBSSUwgMjAxOA1OT1ZFTUJFUiAyMDE3CE1BWSAyMDE3DURFQ0VNQkVSIDIwMTYITUFZIDIwMTYNREVDRU1CRVIgMjAxNQhNQVkgMjAxNQ1ERUNFTUJFUiAyMDE0CE1BWSAyMDE0DU5PVkVNQkVSIDIwMTMVDgEwBDQ0MjEENDAzMwQzOTAyBDM2MjgEMzIzNgQzMTQ0BDI4MDMEMjYzNwQyNDQxBDIyMDQEMjA1NgQyMDEwBDE4NDUUKwMOZ2dnZ2dnZ2dnZ2dnZ2dkZAIPDw9kFgIeB29uY2xpY2sFUCB0aGlzLnZhbHVlPSJQcm9jZXNzaW5nLi4iIDt0aGlzLmRpc2FibGVkID0gdHJ1ZTsgX19kb1Bvc3RCYWNrKCdidG5TZWFyY2gnLCcnKSA7ZAIRDw8WAh4EVGV4dGVkZAIBD2QWAgIBD2QWAgITDzwrAA0AZBgCBQhtdlJlc3VsdA8PZGZkBRF1Y2xHcmQxJGdyZFJlc3VsdA9nZM47FC/PndfdGhumN9izJBVmMY7P'},\n",
        "      {'ddlInst': 1, 'ddlDegree': 38, 'ddlSem': 2, 'ddlScheduleExam': 3633, '__VIEWSTATE':'/wEPDwULLTE1NjI2NDEzNjgPFgIeDFByZXZpb3VzUGFnZQUzaHR0cDovLzExNy4yMzkuODMuMjAwOjIwMjAvZnJtVW5pdmVyc2l0eVJlc3VsdC5hc3B4FgICAw9kFgICAQ9kFgRmD2QWDAIFDxAPFgYeDURhdGFUZXh0RmllbGQFBUFsaWFzHg5EYXRhVmFsdWVGaWVsZAULSW5zdGl0dXRlSUQeC18hRGF0YUJvdW5kZ2QQFQoJU2VsZWN0Li4uBUNTUElUBkNNUElDQQRSUENQBElJSU0GUERQSUFTBEFSSVAETVRJTgRDSVBTB0RFUFNUQVIVCgEwATEBMgEzATQBNQE2AjE2AjE5AjIxFCsDCmdnZ2dnZ2dnZ2cWAQIBZAIHDxAPFgYfAQUKRGVncmVlQ29kZR8CBQhEZWdyZWVJRB8DZ2QQFRoJU2VsZWN0Li4uCUJURUNIKENFKQlCVEVDSChDTCkJQlRFQ0goQ1MpCUJURUNIKEVDKQlCVEVDSChFRSkJQlRFQ0goSVQpCUJURUNIKE1FKQREUkNFBERSQ0wERFJFQwREUkVFBERSTUUKTVRFQ0goQU1UKQlNVEVDSChDRSkJTVRFQ0goQ0wpCk1URUNIKENTRSkJTVRFQ0goRUMpCU1URUNIKEVFKQpNVEVDSChFVkQpCk1URUNIKElDVCkJTVRFQ0goSVQpCU1URUNIKE1FKQlNVEVDSChQRSkJTVRFQ0goVEUpA01UTRUaATACMzkCNDEDMTU1AjQwAjM3AjM4AjM2AjgyAjkwAjcwAjcyAjcxAzEwNgI2NQMxMDUDMTQwAjYxAjg3AzExNgMxNDICOTUCNjADMTQzAzE0MQMxMTAUKwMaZ2dnZ2dnZ2dnZ2dnZ2dnZ2dnZ2dnZ2dnZ2cWAQIGZAIJDxAPFgYfAQUDU2VtHwIFA1NlbR8DZ2QQFQkJU2VsZWN0Li4uATEBMgEzATQBNQE2ATcBOBUJATABMQEyATMBNAE1ATYBNwE4FCsDCWdnZ2dnZ2dnZxYBAgJkAgsPEA8WBh8BBQ1FeGFtTW9udGhZZWFyHwIFDlNjaGVkdWxlRXhhbUlEHwNnZBAVDglTZWxlY3QuLi4NREVDRU1CRVIgMjAxOQpBUFJJTCAyMDE5DU5PVkVNQkVSIDIwMTgKQVBSSUwgMjAxOA1OT1ZFTUJFUiAyMDE3CE1BWSAyMDE3DURFQ0VNQkVSIDIwMTYITUFZIDIwMTYNREVDRU1CRVIgMjAxNQhNQVkgMjAxNQ1ERUNFTUJFUiAyMDE0CE1BWSAyMDE0DU5PVkVNQkVSIDIwMTMVDgEwBDQ0MjIENDAzNAQzOTA4BDM2MzMEMzI0MgQzMTQ1BDI4MDQEMjYzOAQyNDQyBDIyMTAEMjA2MgQyMDE2BDE3ODgUKwMOZ2dnZ2dnZ2dnZ2dnZ2dkZAIPDw9kFgIeB29uY2xpY2sFUCB0aGlzLnZhbHVlPSJQcm9jZXNzaW5nLi4iIDt0aGlzLmRpc2FibGVkID0gdHJ1ZTsgX19kb1Bvc3RCYWNrKCdidG5TZWFyY2gnLCcnKSA7ZAIRDw8WAh4EVGV4dGVkZAIBD2QWAgIBD2QWAgITDzwrAA0AZBgCBQhtdlJlc3VsdA8PZGZkBRF1Y2xHcmQxJGdyZFJlc3VsdA9nZGchvi9vBvw2uhIIBpwt9mTh2OV4'},\n",
        "      {'ddlInst': 1, 'ddlDegree': 38, 'ddlSem': 3, 'ddlScheduleExam': 3893, '__VIEWSTATE':'/wEPDwULLTE1NjI2NDEzNjgPFgIeDFByZXZpb3VzUGFnZQUzaHR0cDovLzExNy4yMzkuODMuMjAwOjIwMjAvZnJtVW5pdmVyc2l0eVJlc3VsdC5hc3B4FgICAw9kFgICAQ9kFgRmD2QWDAIFDxAPFgYeDURhdGFUZXh0RmllbGQFBUFsaWFzHg5EYXRhVmFsdWVGaWVsZAULSW5zdGl0dXRlSUQeC18hRGF0YUJvdW5kZ2QQFQoJU2VsZWN0Li4uBUNTUElUBkNNUElDQQRSUENQBElJSU0GUERQSUFTBEFSSVAETVRJTgRDSVBTB0RFUFNUQVIVCgEwATEBMgEzATQBNQE2AjE2AjE5AjIxFCsDCmdnZ2dnZ2dnZ2cWAQIBZAIHDxAPFgYfAQUKRGVncmVlQ29kZR8CBQhEZWdyZWVJRB8DZ2QQFRoJU2VsZWN0Li4uCUJURUNIKENFKQlCVEVDSChDTCkJQlRFQ0goQ1MpCUJURUNIKEVDKQlCVEVDSChFRSkJQlRFQ0goSVQpCUJURUNIKE1FKQREUkNFBERSQ0wERFJFQwREUkVFBERSTUUKTVRFQ0goQU1UKQlNVEVDSChDRSkJTVRFQ0goQ0wpCk1URUNIKENTRSkJTVRFQ0goRUMpCU1URUNIKEVFKQpNVEVDSChFVkQpCk1URUNIKElDVCkJTVRFQ0goSVQpCU1URUNIKE1FKQlNVEVDSChQRSkJTVRFQ0goVEUpA01UTRUaATACMzkCNDEDMTU1AjQwAjM3AjM4AjM2AjgyAjkwAjcwAjcyAjcxAzEwNgI2NQMxMDUDMTQwAjYxAjg3AzExNgMxNDICOTUCNjADMTQzAzE0MQMxMTAUKwMaZ2dnZ2dnZ2dnZ2dnZ2dnZ2dnZ2dnZ2dnZ2cWAQIGZAIJDxAPFgYfAQUDU2VtHwIFA1NlbR8DZ2QQFQkJU2VsZWN0Li4uATEBMgEzATQBNQE2ATcBOBUJATABMQEyATMBNAE1ATYBNwE4FCsDCWdnZ2dnZ2dnZxYBAgNkAgsPEA8WBh8BBQ1FeGFtTW9udGhZZWFyHwIFDlNjaGVkdWxlRXhhbUlEHwNnZBAVDwlTZWxlY3QuLi4KTUFSQ0ggMjAyMA1OT1ZFTUJFUiAyMDE5Ck1BUkNIIDIwMTkNTk9WRU1CRVIgMjAxOApNQVJDSCAyMDE4DU5PVkVNQkVSIDIwMTcITUFZIDIwMTcNREVDRU1CRVIgMjAxNghNQVkgMjAxNg1OT1ZFTUJFUiAyMDE1CkFQUklMIDIwMTUNTk9WRU1CRVIgMjAxNAhNQVkgMjAxNA1OT1ZFTUJFUiAyMDEzFQ8BMAQ0NTQ4BDQzODIENDAzNQQzODkzBDM0NjUEMzI0OAQzMDM3BDI4MDUEMjYzOQQyMzg0BDIyMTYEMjA2OAQxOTUyBDE4NDkUKwMPZ2dnZ2dnZ2dnZ2dnZ2dnZGQCDw8PZBYCHgdvbmNsaWNrBVAgdGhpcy52YWx1ZT0iUHJvY2Vzc2luZy4uIiA7dGhpcy5kaXNhYmxlZCA9IHRydWU7IF9fZG9Qb3N0QmFjaygnYnRuU2VhcmNoJywnJykgO2QCEQ8PFgIeBFRleHRlZGQCAQ9kFgICAQ9kFgICEw88KwANAGQYAgUIbXZSZXN1bHQPD2RmZAURdWNsR3JkMSRncmRSZXN1bHQPZ2Qfktl/TLnInIJhotUQYBVDIfHc+A=='},\n",
        "      {'ddlInst': 1, 'ddlDegree': 38, 'ddlSem': 4, 'ddlScheduleExam': 4036, '__VIEWSTATE':'/wEPDwULLTE1NjI2NDEzNjgPFgIeDFByZXZpb3VzUGFnZQUzaHR0cDovLzExNy4yMzkuODMuMjAwOjIwMjAvZnJtVW5pdmVyc2l0eVJlc3VsdC5hc3B4FgICAw9kFgICAQ9kFgRmD2QWDAIFDxAPFgYeDURhdGFUZXh0RmllbGQFBUFsaWFzHg5EYXRhVmFsdWVGaWVsZAULSW5zdGl0dXRlSUQeC18hRGF0YUJvdW5kZ2QQFQoJU2VsZWN0Li4uBUNTUElUBkNNUElDQQRSUENQBElJSU0GUERQSUFTBEFSSVAETVRJTgRDSVBTB0RFUFNUQVIVCgEwATEBMgEzATQBNQE2AjE2AjE5AjIxFCsDCmdnZ2dnZ2dnZ2cWAQIBZAIHDxAPFgYfAQUKRGVncmVlQ29kZR8CBQhEZWdyZWVJRB8DZ2QQFRoJU2VsZWN0Li4uCUJURUNIKENFKQlCVEVDSChDTCkJQlRFQ0goQ1MpCUJURUNIKEVDKQlCVEVDSChFRSkJQlRFQ0goSVQpCUJURUNIKE1FKQREUkNFBERSQ0wERFJFQwREUkVFBERSTUUKTVRFQ0goQU1UKQlNVEVDSChDRSkJTVRFQ0goQ0wpCk1URUNIKENTRSkJTVRFQ0goRUMpCU1URUNIKEVFKQpNVEVDSChFVkQpCk1URUNIKElDVCkJTVRFQ0goSVQpCU1URUNIKE1FKQlNVEVDSChQRSkJTVRFQ0goVEUpA01UTRUaATACMzkCNDEDMTU1AjQwAjM3AjM4AjM2AjgyAjkwAjcwAjcyAjcxAzEwNgI2NQMxMDUDMTQwAjYxAjg3AzExNgMxNDICOTUCNjADMTQzAzE0MQMxMTAUKwMaZ2dnZ2dnZ2dnZ2dnZ2dnZ2dnZ2dnZ2dnZ2cWAQIGZAIJDxAPFgYfAQUDU2VtHwIFA1NlbR8DZ2QQFQkJU2VsZWN0Li4uATEBMgEzATQBNQE2ATcBOBUJATABMQEyATMBNAE1ATYBNwE4FCsDCWdnZ2dnZ2dnZxYBAgRkAgsPEA8WBh8BBQ1FeGFtTW9udGhZZWFyHwIFDlNjaGVkdWxlRXhhbUlEHwNnZBAVDglTZWxlY3QuLi4OU0VQVEVNQkVSIDIwMTkKQVBSSUwgMjAxOQ5TRVBURU1CRVIgMjAxOApBUFJJTCAyMDE4DE9DVE9CRVIgMjAxNwhNQVkgMjAxNw1OT1ZFTUJFUiAyMDE2CE1BWSAyMDE2DURFQ0VNQkVSIDIwMTUITUFZIDIwMTUNTk9WRU1CRVIgMjAxNApBUFJJTCAyMDE0DU5PVkVNQkVSIDIwMTMVDgEwBDQzMDgENDAzNgQzNzI3BDM1MDcEMzIxOAQzMDQ5BDI4MDYEMjY0MAQyMzkxBDIyMjIEMjA3NAQxOTcwBDE3OTQUKwMOZ2dnZ2dnZ2dnZ2dnZ2dkZAIPDw9kFgIeB29uY2xpY2sFUCB0aGlzLnZhbHVlPSJQcm9jZXNzaW5nLi4iIDt0aGlzLmRpc2FibGVkID0gdHJ1ZTsgX19kb1Bvc3RCYWNrKCdidG5TZWFyY2gnLCcnKSA7ZAIRDw8WAh4EVGV4dGVkZAIBD2QWAgIBD2QWAgITDzwrAA0AZBgCBQhtdlJlc3VsdA8PZGZkBRF1Y2xHcmQxJGdyZFJlc3VsdA9nZHsDjaDPgwQdOPonHIhlSTzwg0cu'},\n",
        "      {'ddlInst': 1, 'ddlDegree': 38, 'ddlSem': 5, 'ddlScheduleExam': 4391, '__VIEWSTATE':'/wEPDwULLTE1NjI2NDEzNjgPFgIeDFByZXZpb3VzUGFnZQUzaHR0cDovLzExNy4yMzkuODMuMjAwOjIwMjAvZnJtVW5pdmVyc2l0eVJlc3VsdC5hc3B4FgICAw9kFgICAQ9kFgRmD2QWDAIFDxAPFgYeDURhdGFUZXh0RmllbGQFBUFsaWFzHg5EYXRhVmFsdWVGaWVsZAULSW5zdGl0dXRlSUQeC18hRGF0YUJvdW5kZ2QQFQoJU2VsZWN0Li4uBUNTUElUBkNNUElDQQRSUENQBElJSU0GUERQSUFTBEFSSVAETVRJTgRDSVBTB0RFUFNUQVIVCgEwATEBMgEzATQBNQE2AjE2AjE5AjIxFCsDCmdnZ2dnZ2dnZ2cWAQIBZAIHDxAPFgYfAQUKRGVncmVlQ29kZR8CBQhEZWdyZWVJRB8DZ2QQFRoJU2VsZWN0Li4uCUJURUNIKENFKQlCVEVDSChDTCkJQlRFQ0goQ1MpCUJURUNIKEVDKQlCVEVDSChFRSkJQlRFQ0goSVQpCUJURUNIKE1FKQREUkNFBERSQ0wERFJFQwREUkVFBERSTUUKTVRFQ0goQU1UKQlNVEVDSChDRSkJTVRFQ0goQ0wpCk1URUNIKENTRSkJTVRFQ0goRUMpCU1URUNIKEVFKQpNVEVDSChFVkQpCk1URUNIKElDVCkJTVRFQ0goSVQpCU1URUNIKE1FKQlNVEVDSChQRSkJTVRFQ0goVEUpA01UTRUaATACMzkCNDEDMTU1AjQwAjM3AjM4AjM2AjgyAjkwAjcwAjcyAjcxAzEwNgI2NQMxMDUDMTQwAjYxAjg3AzExNgMxNDICOTUCNjADMTQzAzE0MQMxMTAUKwMaZ2dnZ2dnZ2dnZ2dnZ2dnZ2dnZ2dnZ2dnZ2cWAQIGZAIJDxAPFgYfAQUDU2VtHwIFA1NlbR8DZ2QQFQkJU2VsZWN0Li4uATEBMgEzATQBNQE2ATcBOBUJATABMQEyATMBNAE1ATYBNwE4FCsDCWdnZ2dnZ2dnZxYBAgVkAgsPEA8WBh8BBQ1FeGFtTW9udGhZZWFyHwIFDlNjaGVkdWxlRXhhbUlEHwNnZBAVDglTZWxlY3QuLi4KTUFSQ0ggMjAyMA1OT1ZFTUJFUiAyMDE5DU5PVkVNQkVSIDIwMTgKTUFSQ0ggMjAxOA1OT1ZFTUJFUiAyMDE3CE1BWSAyMDE3DURFQ0VNQkVSIDIwMTYITUFZIDIwMTYNTk9WRU1CRVIgMjAxNQpBUFJJTCAyMDE1DU5PVkVNQkVSIDIwMTQITUFZIDIwMTQNTk9WRU1CRVIgMjAxMxUOATAENDU1NwQ0MzkxBDM4ODcEMzQ1OQQzMjU0BDMwNTUEMjgwNwQyNjQ0BDIzOTYEMjIyOAQyMDgwBDE5NTgEMTgwNxQrAw5nZ2dnZ2dnZ2dnZ2dnZ2RkAg8PD2QWAh4Hb25jbGljawVQIHRoaXMudmFsdWU9IlByb2Nlc3NpbmcuLiIgO3RoaXMuZGlzYWJsZWQgPSB0cnVlOyBfX2RvUG9zdEJhY2soJ2J0blNlYXJjaCcsJycpIDtkAhEPDxYCHgRUZXh0ZWRkAgEPZBYCAgEPZBYCAhMPPCsADQBkGAIFCG12UmVzdWx0Dw9kZmQFEXVjbEdyZDEkZ3JkUmVzdWx0D2dk9YvkRU1r6fq4wc7mRvEC4ehjb3A='},\n",
        "      {'ddlInst': 1, 'ddlDegree': 38, 'ddlSem': 6, 'ddlScheduleExam': 4621, '__VIEWSTATE':'/wEPDwULLTE1NjI2NDEzNjgPFgIeDFByZXZpb3VzUGFnZQUzaHR0cDovLzExNy4yMzkuODMuMjAwOjIwMjAvZnJtVW5pdmVyc2l0eVJlc3VsdC5hc3B4FgICAw9kFgICAQ9kFgRmD2QWDAIFDxAPFgYeDURhdGFUZXh0RmllbGQFBUFsaWFzHg5EYXRhVmFsdWVGaWVsZAULSW5zdGl0dXRlSUQeC18hRGF0YUJvdW5kZ2QQFQoJU2VsZWN0Li4uBUNTUElUBkNNUElDQQRSUENQBElJSU0GUERQSUFTBEFSSVAETVRJTgRDSVBTB0RFUFNUQVIVCgEwATEBMgEzATQBNQE2AjE2AjE5AjIxFCsDCmdnZ2dnZ2dnZ2cWAQIBZAIHDxAPFgYfAQUKRGVncmVlQ29kZR8CBQhEZWdyZWVJRB8DZ2QQFRoJU2VsZWN0Li4uCUJURUNIKENFKQlCVEVDSChDTCkJQlRFQ0goQ1MpCUJURUNIKEVDKQlCVEVDSChFRSkJQlRFQ0goSVQpCUJURUNIKE1FKQREUkNFBERSQ0wERFJFQwREUkVFBERSTUUKTVRFQ0goQU1UKQlNVEVDSChDRSkJTVRFQ0goQ0wpCk1URUNIKENTRSkJTVRFQ0goRUMpCU1URUNIKEVFKQpNVEVDSChFVkQpCk1URUNIKElDVCkJTVRFQ0goSVQpCU1URUNIKE1FKQlNVEVDSChQRSkJTVRFQ0goVEUpA01UTRUaATACMzkCNDEDMTU1AjQwAjM3AjM4AjM2AjgyAjkwAjcwAjcyAjcxAzEwNgI2NQMxMDUDMTQwAjYxAjg3AzExNgMxNDICOTUCNjADMTQzAzE0MQMxMTAUKwMaZ2dnZ2dnZ2dnZ2dnZ2dnZ2dnZ2dnZ2dnZ2cWAQIGZAIJDxAPFgYfAQUDU2VtHwIFA1NlbR8DZ2QQFQkJU2VsZWN0Li4uATEBMgEzATQBNQE2ATcBOBUJATABMQEyATMBNAE1ATYBNwE4FCsDCWdnZ2dnZ2dnZxYBAgZkAgsPEA8WBh8BBQ1FeGFtTW9udGhZZWFyHwIFDlNjaGVkdWxlRXhhbUlEHwNnZBAVDwlTZWxlY3QuLi4KQVBSSUwgMjAyMA5TRVBURU1CRVIgMjAxOQpBUFJJTCAyMDE5DlNFUFRFTUJFUiAyMDE4CE1BWSAyMDE4DE9DVE9CRVIgMjAxNwhNQVkgMjAxNw1OT1ZFTUJFUiAyMDE2CE1BWSAyMDE2DU5PVkVNQkVSIDIwMTUITUFZIDIwMTUNTk9WRU1CRVIgMjAxNApBUFJJTCAyMDE0DURFQ0VNQkVSIDIwMTMVDwEwBDQ2MjEENDMxNwQ0MDM4BDM3MzMEMzUxMwQzMjI0BDMwNjEEMjgwOAQyNjQxBDI0MDIEMjIzNAQyMDg2BDE5NzYEMTgwMBQrAw9nZ2dnZ2dnZ2dnZ2dnZ2dkZAIPDw9kFgIeB29uY2xpY2sFUCB0aGlzLnZhbHVlPSJQcm9jZXNzaW5nLi4iIDt0aGlzLmRpc2FibGVkID0gdHJ1ZTsgX19kb1Bvc3RCYWNrKCdidG5TZWFyY2gnLCcnKSA7ZAIRDw8WAh4EVGV4dGVkZAIBD2QWAgIBD2QWAgITDzwrAA0AZBgCBQhtdlJlc3VsdA8PZGZkBRF1Y2xHcmQxJGdyZFJlc3VsdA9nZPmHXOt+NCNIP/VBG55AYfW4yDSK'},\n",
        "      ]\n",
        "\n",
        "# Semester-wise      \n",
        "for sem in range(6): \n",
        "  # users={'ID':[\"\"],'NAME':[\"\"],'SGPA':[\"\"]}\n",
        "  users={'ID':[\"\"],'SGPA':[\"\"]}\n",
        "  post_params.update(exams[sem])\n",
        "\n",
        "  # Student IDs\n",
        "  for i in range (1,138): \n",
        "\n",
        "    #Generating IDs\n",
        "    if(i==21 or i==95 or i==117): continue # Excluded drop-outs\n",
        "    else:\n",
        "      if (i<10):     id=\"17it00\" + str(i)\n",
        "      elif (i<100):  id=\"17it0\"  + str(i)\n",
        "      elif (i<132):  id=\"17it\"   + str(i)\n",
        "      elif (sem>1):  id=\"d18it\"  + str(i)\n",
        "      else: break\n",
        "\n",
        "    # Updating ID\n",
        "    post_params['txtEnrNo']=id\n",
        "\n",
        "    # Fetching Results\n",
        "    soup = BeautifulSoup(html_content, \"lxml\")\n",
        "    post_params['__VIEWSTATEGENERATOR']=soup.find('input', attrs={'name':'__VIEWSTATEGENERATOR'})['value']\n",
        "    result=requests.post(url,data=post_params,headers=headers)\n",
        "    \n",
        "    # To keep track\n",
        "    print(id,end=\" \")\n",
        "\n",
        "    # Extracting ID, NAME and SGPA\n",
        "    try:\n",
        "      users['ID'].append(str(id))\n",
        "      soup_result = BeautifulSoup(result.text)\n",
        "      # x=soup_result.find(\"span\",id='uclGrd1_lblStudentName')\n",
        "      # users['NAME'].append(str(x.text))\n",
        "      y=soup_result.find(\"span\",id='uclGrd1_lblSGPA')\n",
        "      users['SGPA'].append(str(y.text))\n",
        "    except:\n",
        "      # users['NAME'].append(str(\"error\"))\n",
        "      users['SGPA'].append(str(\"error\"))\n",
        "      \n",
        "  print('Semester '+str(sem+1)+' complete!')\n",
        "\n",
        "\n",
        "  # Saving results semester wise in seperate files\n",
        "  file='17IT_sem'+str(sem+1)+'.csv'\n",
        "  df = pd.DataFrame({key: pd.Series(value) for key, value in users.items()})\n",
        "  df.to_csv(file, encoding='utf-8', index=False)\n",
        "\n",
        "  print('sem '+str(sem+1)+' file saved!')\n"
      ],
      "execution_count": null,
      "outputs": [
        {
          "output_type": "stream",
          "text": [
            "17it001 17it002 17it003 17it004 17it005 17it006 17it007 17it008 17it009 17it010 17it011 17it012 17it013 17it014 17it015 17it016 17it017 17it018 17it019 17it020 17it022 17it023 17it024 17it025 17it026 17it027 17it028 17it029 17it030 17it031 17it032 17it033 17it034 17it035 17it036 17it037 17it038 17it039 17it040 17it041 17it042 17it043 17it044 17it045 17it046 17it047 17it048 17it049 17it050 17it051 17it052 17it053 17it054 17it055 17it056 17it057 17it058 17it059 17it060 17it061 17it062 17it063 17it064 17it065 17it066 17it067 17it068 17it069 17it070 17it071 17it072 17it073 17it074 17it075 17it076 17it077 17it078 17it079 17it080 17it081 17it082 17it083 17it084 17it085 17it086 17it087 17it088 17it089 17it090 17it091 17it092 17it093 17it094 17it096 17it097 17it098 17it099 17it100 17it101 17it102 17it103 17it104 17it105 17it106 17it107 17it108 17it109 17it110 17it111 17it112 17it113 17it114 17it115 17it116 17it118 17it119 17it120 17it121 17it122 17it123 17it124 17it125 17it126 17it127 17it128 17it129 17it130 17it131 Semester 1 complete!\n",
            "sem 1 file saved!\n",
            "17it001 17it002 17it003 17it004 17it005 17it006 17it007 17it008 17it009 17it010 17it011 17it012 17it013 17it014 17it015 17it016 17it017 17it018 17it019 17it020 17it022 17it023 17it024 17it025 17it026 17it027 17it028 17it029 17it030 17it031 17it032 17it033 17it034 17it035 17it036 17it037 17it038 17it039 17it040 17it041 17it042 17it043 17it044 17it045 17it046 17it047 17it048 17it049 17it050 17it051 17it052 17it053 17it054 17it055 17it056 17it057 17it058 17it059 17it060 17it061 17it062 17it063 17it064 17it065 17it066 17it067 17it068 17it069 17it070 17it071 17it072 17it073 17it074 17it075 17it076 17it077 17it078 17it079 17it080 17it081 17it082 17it083 17it084 17it085 17it086 17it087 17it088 17it089 17it090 17it091 17it092 17it093 17it094 17it096 17it097 17it098 17it099 17it100 17it101 17it102 17it103 17it104 17it105 17it106 17it107 17it108 17it109 17it110 17it111 17it112 17it113 17it114 17it115 17it116 17it118 17it119 17it120 17it121 17it122 17it123 17it124 17it125 17it126 17it127 17it128 17it129 17it130 17it131 Semester 2 complete!\n",
            "sem 2 file saved!\n",
            "17it001 17it002 17it003 17it004 17it005 17it006 17it007 17it008 17it009 17it010 17it011 17it012 17it013 17it014 17it015 17it016 17it017 17it018 17it019 17it020 17it022 17it023 17it024 17it025 17it026 17it027 17it028 17it029 17it030 17it031 17it032 17it033 17it034 17it035 17it036 17it037 17it038 17it039 17it040 17it041 17it042 17it043 17it044 17it045 17it046 17it047 17it048 17it049 17it050 17it051 17it052 17it053 17it054 17it055 17it056 17it057 17it058 17it059 17it060 17it061 17it062 17it063 17it064 17it065 17it066 17it067 17it068 17it069 17it070 17it071 17it072 17it073 17it074 17it075 17it076 17it077 17it078 17it079 17it080 17it081 17it082 17it083 17it084 17it085 17it086 17it087 17it088 17it089 17it090 17it091 17it092 17it093 17it094 17it096 17it097 17it098 17it099 17it100 17it101 17it102 17it103 17it104 17it105 17it106 17it107 17it108 17it109 17it110 17it111 17it112 17it113 17it114 17it115 17it116 17it118 17it119 17it120 17it121 17it122 17it123 17it124 17it125 17it126 17it127 17it128 17it129 17it130 17it131 d18it132 d18it133 d18it134 d18it135 d18it136 d18it137 Semester 3 complete!\n",
            "sem 3 file saved!\n",
            "17it001 17it002 17it003 17it004 17it005 17it006 17it007 17it008 17it009 17it010 17it011 17it012 17it013 17it014 17it015 17it016 17it017 17it018 17it019 17it020 17it022 17it023 17it024 17it025 17it026 17it027 17it028 17it029 17it030 17it031 17it032 17it033 17it034 17it035 17it036 17it037 17it038 17it039 17it040 17it041 17it042 17it043 17it044 17it045 17it046 17it047 17it048 17it049 17it050 17it051 17it052 17it053 17it054 17it055 17it056 17it057 17it058 17it059 17it060 17it061 17it062 17it063 17it064 17it065 17it066 17it067 17it068 17it069 17it070 17it071 17it072 17it073 17it074 17it075 17it076 17it077 17it078 17it079 17it080 17it081 17it082 17it083 17it084 17it085 17it086 17it087 17it088 17it089 17it090 17it091 17it092 17it093 17it094 17it096 17it097 17it098 17it099 17it100 17it101 17it102 17it103 17it104 17it105 17it106 17it107 17it108 17it109 17it110 17it111 17it112 17it113 17it114 17it115 17it116 17it118 17it119 17it120 17it121 17it122 17it123 17it124 17it125 17it126 17it127 17it128 17it129 17it130 17it131 d18it132 d18it133 d18it134 d18it135 d18it136 d18it137 Semester 4 complete!\n",
            "sem 4 file saved!\n",
            "17it001 17it002 17it003 17it004 17it005 17it006 17it007 17it008 17it009 17it010 17it011 17it012 17it013 17it014 17it015 17it016 17it017 17it018 17it019 17it020 17it022 17it023 17it024 17it025 17it026 17it027 17it028 17it029 17it030 17it031 17it032 17it033 17it034 17it035 17it036 17it037 17it038 17it039 17it040 17it041 17it042 17it043 17it044 17it045 17it046 17it047 17it048 17it049 17it050 17it051 17it052 17it053 17it054 17it055 17it056 17it057 17it058 17it059 17it060 17it061 17it062 17it063 17it064 17it065 17it066 17it067 17it068 17it069 17it070 17it071 17it072 17it073 17it074 17it075 17it076 17it077 17it078 17it079 17it080 17it081 17it082 17it083 17it084 17it085 17it086 17it087 17it088 17it089 17it090 17it091 17it092 17it093 17it094 17it096 17it097 17it098 17it099 17it100 17it101 17it102 17it103 17it104 17it105 17it106 17it107 17it108 17it109 17it110 17it111 17it112 17it113 17it114 17it115 17it116 17it118 17it119 17it120 17it121 17it122 17it123 17it124 17it125 17it126 17it127 17it128 17it129 17it130 17it131 d18it132 d18it133 d18it134 d18it135 d18it136 d18it137 Semester 5 complete!\n",
            "sem 5 file saved!\n",
            "17it001 17it002 17it003 17it004 17it005 17it006 17it007 17it008 17it009 17it010 17it011 17it012 17it013 17it014 17it015 17it016 17it017 17it018 17it019 17it020 17it022 17it023 17it024 17it025 17it026 17it027 17it028 17it029 17it030 17it031 17it032 17it033 17it034 17it035 17it036 17it037 17it038 17it039 17it040 17it041 17it042 17it043 17it044 17it045 17it046 17it047 17it048 17it049 17it050 17it051 17it052 17it053 17it054 17it055 17it056 17it057 17it058 17it059 17it060 17it061 17it062 17it063 17it064 17it065 17it066 17it067 17it068 17it069 17it070 17it071 17it072 17it073 17it074 17it075 17it076 17it077 17it078 17it079 17it080 17it081 17it082 17it083 17it084 17it085 17it086 17it087 17it088 17it089 17it090 17it091 17it092 17it093 17it094 17it096 17it097 17it098 17it099 17it100 17it101 17it102 17it103 17it104 17it105 17it106 17it107 17it108 17it109 17it110 17it111 17it112 17it113 17it114 17it115 17it116 17it118 17it119 17it120 17it121 17it122 17it123 17it124 17it125 17it126 17it127 17it128 17it129 17it130 17it131 d18it132 d18it133 d18it134 d18it135 d18it136 d18it137 Semester 6 complete!\n",
            "sem 6 file saved!\n"
          ],
          "name": "stdout"
        }
      ]
    },
    {
      "cell_type": "code",
      "metadata": {
        "id": "bTjY48PmGmfG",
        "colab_type": "code",
        "colab": {
          "base_uri": "https://localhost:8080/",
          "height": 51
        },
        "outputId": "d1ae219b-c748-4e83-dab7-32a918cbe150"
      },
      "source": [
        "!ls"
      ],
      "execution_count": 113,
      "outputs": [
        {
          "output_type": "stream",
          "text": [
            "17IT_sem1.csv  17IT_sem3.csv  17IT_sem5.csv  17IT_test.csv\n",
            "17IT_sem2.csv  17IT_sem4.csv  17IT_sem6.csv  sample_data\n"
          ],
          "name": "stdout"
        }
      ]
    },
    {
      "cell_type": "code",
      "metadata": {
        "id": "cKafLzxhX4Jt",
        "colab_type": "code",
        "colab": {
          "base_uri": "https://localhost:8080/",
          "height": 17
        },
        "outputId": "fde205ef-ad5b-48bb-8dab-6455d5f0cd53"
      },
      "source": [
        "# SAVING CSVs LOCALLY\n",
        "\n",
        "from google.colab import files\n",
        "for sem in range(1,7):\n",
        "  files.download('17IT_sem'+str(sem)+'.csv')"
      ],
      "execution_count": null,
      "outputs": [
        {
          "output_type": "display_data",
          "data": {
            "application/javascript": [
              "\n",
              "    async function download(id, filename, size) {\n",
              "      if (!google.colab.kernel.accessAllowed) {\n",
              "        return;\n",
              "      }\n",
              "      const div = document.createElement('div');\n",
              "      const label = document.createElement('label');\n",
              "      label.textContent = `Downloading \"${filename}\": `;\n",
              "      div.appendChild(label);\n",
              "      const progress = document.createElement('progress');\n",
              "      progress.max = size;\n",
              "      div.appendChild(progress);\n",
              "      document.body.appendChild(div);\n",
              "\n",
              "      const buffers = [];\n",
              "      let downloaded = 0;\n",
              "\n",
              "      const channel = await google.colab.kernel.comms.open(id);\n",
              "      // Send a message to notify the kernel that we're ready.\n",
              "      channel.send({})\n",
              "\n",
              "      for await (const message of channel.messages) {\n",
              "        // Send a message to notify the kernel that we're ready.\n",
              "        channel.send({})\n",
              "        if (message.buffers) {\n",
              "          for (const buffer of message.buffers) {\n",
              "            buffers.push(buffer);\n",
              "            downloaded += buffer.byteLength;\n",
              "            progress.value = downloaded;\n",
              "          }\n",
              "        }\n",
              "      }\n",
              "      const blob = new Blob(buffers, {type: 'application/binary'});\n",
              "      const a = document.createElement('a');\n",
              "      a.href = window.URL.createObjectURL(blob);\n",
              "      a.download = filename;\n",
              "      div.appendChild(a);\n",
              "      a.click();\n",
              "      div.remove();\n",
              "    }\n",
              "  "
            ],
            "text/plain": [
              "<IPython.core.display.Javascript object>"
            ]
          },
          "metadata": {
            "tags": []
          }
        },
        {
          "output_type": "display_data",
          "data": {
            "application/javascript": [
              "download(\"download_4c4149ad-7a48-4487-b433-ed55845d2ae7\", \"17IT_sem1.csv\", 4888)"
            ],
            "text/plain": [
              "<IPython.core.display.Javascript object>"
            ]
          },
          "metadata": {
            "tags": []
          }
        },
        {
          "output_type": "display_data",
          "data": {
            "application/javascript": [
              "\n",
              "    async function download(id, filename, size) {\n",
              "      if (!google.colab.kernel.accessAllowed) {\n",
              "        return;\n",
              "      }\n",
              "      const div = document.createElement('div');\n",
              "      const label = document.createElement('label');\n",
              "      label.textContent = `Downloading \"${filename}\": `;\n",
              "      div.appendChild(label);\n",
              "      const progress = document.createElement('progress');\n",
              "      progress.max = size;\n",
              "      div.appendChild(progress);\n",
              "      document.body.appendChild(div);\n",
              "\n",
              "      const buffers = [];\n",
              "      let downloaded = 0;\n",
              "\n",
              "      const channel = await google.colab.kernel.comms.open(id);\n",
              "      // Send a message to notify the kernel that we're ready.\n",
              "      channel.send({})\n",
              "\n",
              "      for await (const message of channel.messages) {\n",
              "        // Send a message to notify the kernel that we're ready.\n",
              "        channel.send({})\n",
              "        if (message.buffers) {\n",
              "          for (const buffer of message.buffers) {\n",
              "            buffers.push(buffer);\n",
              "            downloaded += buffer.byteLength;\n",
              "            progress.value = downloaded;\n",
              "          }\n",
              "        }\n",
              "      }\n",
              "      const blob = new Blob(buffers, {type: 'application/binary'});\n",
              "      const a = document.createElement('a');\n",
              "      a.href = window.URL.createObjectURL(blob);\n",
              "      a.download = filename;\n",
              "      div.appendChild(a);\n",
              "      a.click();\n",
              "      div.remove();\n",
              "    }\n",
              "  "
            ],
            "text/plain": [
              "<IPython.core.display.Javascript object>"
            ]
          },
          "metadata": {
            "tags": []
          }
        },
        {
          "output_type": "display_data",
          "data": {
            "application/javascript": [
              "download(\"download_75e78307-6ce7-4eca-8dba-0f7dd7a6591f\", \"17IT_sem2.csv\", 4889)"
            ],
            "text/plain": [
              "<IPython.core.display.Javascript object>"
            ]
          },
          "metadata": {
            "tags": []
          }
        },
        {
          "output_type": "display_data",
          "data": {
            "application/javascript": [
              "\n",
              "    async function download(id, filename, size) {\n",
              "      if (!google.colab.kernel.accessAllowed) {\n",
              "        return;\n",
              "      }\n",
              "      const div = document.createElement('div');\n",
              "      const label = document.createElement('label');\n",
              "      label.textContent = `Downloading \"${filename}\": `;\n",
              "      div.appendChild(label);\n",
              "      const progress = document.createElement('progress');\n",
              "      progress.max = size;\n",
              "      div.appendChild(progress);\n",
              "      document.body.appendChild(div);\n",
              "\n",
              "      const buffers = [];\n",
              "      let downloaded = 0;\n",
              "\n",
              "      const channel = await google.colab.kernel.comms.open(id);\n",
              "      // Send a message to notify the kernel that we're ready.\n",
              "      channel.send({})\n",
              "\n",
              "      for await (const message of channel.messages) {\n",
              "        // Send a message to notify the kernel that we're ready.\n",
              "        channel.send({})\n",
              "        if (message.buffers) {\n",
              "          for (const buffer of message.buffers) {\n",
              "            buffers.push(buffer);\n",
              "            downloaded += buffer.byteLength;\n",
              "            progress.value = downloaded;\n",
              "          }\n",
              "        }\n",
              "      }\n",
              "      const blob = new Blob(buffers, {type: 'application/binary'});\n",
              "      const a = document.createElement('a');\n",
              "      a.href = window.URL.createObjectURL(blob);\n",
              "      a.download = filename;\n",
              "      div.appendChild(a);\n",
              "      a.click();\n",
              "      div.remove();\n",
              "    }\n",
              "  "
            ],
            "text/plain": [
              "<IPython.core.display.Javascript object>"
            ]
          },
          "metadata": {
            "tags": []
          }
        },
        {
          "output_type": "display_data",
          "data": {
            "application/javascript": [
              "download(\"download_ba4f9a97-b3b2-4d04-9cd9-553ce5e3d38c\", \"17IT_sem3.csv\", 5124)"
            ],
            "text/plain": [
              "<IPython.core.display.Javascript object>"
            ]
          },
          "metadata": {
            "tags": []
          }
        },
        {
          "output_type": "display_data",
          "data": {
            "application/javascript": [
              "\n",
              "    async function download(id, filename, size) {\n",
              "      if (!google.colab.kernel.accessAllowed) {\n",
              "        return;\n",
              "      }\n",
              "      const div = document.createElement('div');\n",
              "      const label = document.createElement('label');\n",
              "      label.textContent = `Downloading \"${filename}\": `;\n",
              "      div.appendChild(label);\n",
              "      const progress = document.createElement('progress');\n",
              "      progress.max = size;\n",
              "      div.appendChild(progress);\n",
              "      document.body.appendChild(div);\n",
              "\n",
              "      const buffers = [];\n",
              "      let downloaded = 0;\n",
              "\n",
              "      const channel = await google.colab.kernel.comms.open(id);\n",
              "      // Send a message to notify the kernel that we're ready.\n",
              "      channel.send({})\n",
              "\n",
              "      for await (const message of channel.messages) {\n",
              "        // Send a message to notify the kernel that we're ready.\n",
              "        channel.send({})\n",
              "        if (message.buffers) {\n",
              "          for (const buffer of message.buffers) {\n",
              "            buffers.push(buffer);\n",
              "            downloaded += buffer.byteLength;\n",
              "            progress.value = downloaded;\n",
              "          }\n",
              "        }\n",
              "      }\n",
              "      const blob = new Blob(buffers, {type: 'application/binary'});\n",
              "      const a = document.createElement('a');\n",
              "      a.href = window.URL.createObjectURL(blob);\n",
              "      a.download = filename;\n",
              "      div.appendChild(a);\n",
              "      a.click();\n",
              "      div.remove();\n",
              "    }\n",
              "  "
            ],
            "text/plain": [
              "<IPython.core.display.Javascript object>"
            ]
          },
          "metadata": {
            "tags": []
          }
        },
        {
          "output_type": "display_data",
          "data": {
            "application/javascript": [
              "download(\"download_0de45828-6cec-441a-ba1c-1c19451d9571\", \"17IT_sem4.csv\", 5125)"
            ],
            "text/plain": [
              "<IPython.core.display.Javascript object>"
            ]
          },
          "metadata": {
            "tags": []
          }
        },
        {
          "output_type": "display_data",
          "data": {
            "application/javascript": [
              "\n",
              "    async function download(id, filename, size) {\n",
              "      if (!google.colab.kernel.accessAllowed) {\n",
              "        return;\n",
              "      }\n",
              "      const div = document.createElement('div');\n",
              "      const label = document.createElement('label');\n",
              "      label.textContent = `Downloading \"${filename}\": `;\n",
              "      div.appendChild(label);\n",
              "      const progress = document.createElement('progress');\n",
              "      progress.max = size;\n",
              "      div.appendChild(progress);\n",
              "      document.body.appendChild(div);\n",
              "\n",
              "      const buffers = [];\n",
              "      let downloaded = 0;\n",
              "\n",
              "      const channel = await google.colab.kernel.comms.open(id);\n",
              "      // Send a message to notify the kernel that we're ready.\n",
              "      channel.send({})\n",
              "\n",
              "      for await (const message of channel.messages) {\n",
              "        // Send a message to notify the kernel that we're ready.\n",
              "        channel.send({})\n",
              "        if (message.buffers) {\n",
              "          for (const buffer of message.buffers) {\n",
              "            buffers.push(buffer);\n",
              "            downloaded += buffer.byteLength;\n",
              "            progress.value = downloaded;\n",
              "          }\n",
              "        }\n",
              "      }\n",
              "      const blob = new Blob(buffers, {type: 'application/binary'});\n",
              "      const a = document.createElement('a');\n",
              "      a.href = window.URL.createObjectURL(blob);\n",
              "      a.download = filename;\n",
              "      div.appendChild(a);\n",
              "      a.click();\n",
              "      div.remove();\n",
              "    }\n",
              "  "
            ],
            "text/plain": [
              "<IPython.core.display.Javascript object>"
            ]
          },
          "metadata": {
            "tags": []
          }
        },
        {
          "output_type": "display_data",
          "data": {
            "application/javascript": [
              "download(\"download_be0ee1a5-a026-43a2-bb08-2144457e68e5\", \"17IT_sem5.csv\", 5124)"
            ],
            "text/plain": [
              "<IPython.core.display.Javascript object>"
            ]
          },
          "metadata": {
            "tags": []
          }
        },
        {
          "output_type": "display_data",
          "data": {
            "application/javascript": [
              "\n",
              "    async function download(id, filename, size) {\n",
              "      if (!google.colab.kernel.accessAllowed) {\n",
              "        return;\n",
              "      }\n",
              "      const div = document.createElement('div');\n",
              "      const label = document.createElement('label');\n",
              "      label.textContent = `Downloading \"${filename}\": `;\n",
              "      div.appendChild(label);\n",
              "      const progress = document.createElement('progress');\n",
              "      progress.max = size;\n",
              "      div.appendChild(progress);\n",
              "      document.body.appendChild(div);\n",
              "\n",
              "      const buffers = [];\n",
              "      let downloaded = 0;\n",
              "\n",
              "      const channel = await google.colab.kernel.comms.open(id);\n",
              "      // Send a message to notify the kernel that we're ready.\n",
              "      channel.send({})\n",
              "\n",
              "      for await (const message of channel.messages) {\n",
              "        // Send a message to notify the kernel that we're ready.\n",
              "        channel.send({})\n",
              "        if (message.buffers) {\n",
              "          for (const buffer of message.buffers) {\n",
              "            buffers.push(buffer);\n",
              "            downloaded += buffer.byteLength;\n",
              "            progress.value = downloaded;\n",
              "          }\n",
              "        }\n",
              "      }\n",
              "      const blob = new Blob(buffers, {type: 'application/binary'});\n",
              "      const a = document.createElement('a');\n",
              "      a.href = window.URL.createObjectURL(blob);\n",
              "      a.download = filename;\n",
              "      div.appendChild(a);\n",
              "      a.click();\n",
              "      div.remove();\n",
              "    }\n",
              "  "
            ],
            "text/plain": [
              "<IPython.core.display.Javascript object>"
            ]
          },
          "metadata": {
            "tags": []
          }
        },
        {
          "output_type": "display_data",
          "data": {
            "application/javascript": [
              "download(\"download_d3aae979-33d1-4ffc-abb0-c6f9acf98057\", \"17IT_sem6.csv\", 5137)"
            ],
            "text/plain": [
              "<IPython.core.display.Javascript object>"
            ]
          },
          "metadata": {
            "tags": []
          }
        }
      ]
    },
    {
      "cell_type": "code",
      "metadata": {
        "id": "sTURsxTIX_B5",
        "colab_type": "code",
        "colab": {}
      },
      "source": [
        ""
      ],
      "execution_count": null,
      "outputs": []
    }
  ]
}